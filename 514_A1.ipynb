{
  "cells": [
    {
      "cell_type": "markdown",
      "metadata": {
        "id": "Gt9n33zwRzY7"
      },
      "source": [
        "## CSE 514 Assignment 1 - Regression\n",
        "### Author: Shane Canfield"
      ]
    },
    {
      "cell_type": "markdown",
      "metadata": {
        "id": "4MQANe0SR3lk"
      },
      "source": [
        "Before we begin let's install some dependencies"
      ]
    },
    {
      "cell_type": "code",
      "execution_count": null,
      "metadata": {},
      "outputs": [],
      "source": [
        "pip install matplotlib"
      ]
    },
    {
      "cell_type": "code",
      "execution_count": 600,
      "metadata": {},
      "outputs": [
        {
          "name": "stdout",
          "output_type": "stream",
          "text": [
            "Collecting sklearn\n",
            "  Downloading sklearn-0.0.tar.gz (1.1 kB)\n",
            "  Preparing metadata (setup.py) ... \u001b[?25ldone\n",
            "\u001b[?25hCollecting scikit-learn\n",
            "  Downloading scikit_learn-1.1.2-cp310-cp310-macosx_12_0_arm64.whl (7.7 MB)\n",
            "\u001b[2K     \u001b[90m━━━━━━━━━━━━━━━━━━━━━━━━━━━━━━━━━━━━━━━━\u001b[0m \u001b[32m7.7/7.7 MB\u001b[0m \u001b[31m6.9 MB/s\u001b[0m eta \u001b[36m0:00:00\u001b[0m00:01\u001b[0m00:01\u001b[0m\n",
            "\u001b[?25hCollecting scipy>=1.3.2\n",
            "  Downloading scipy-1.9.1-cp310-cp310-macosx_12_0_arm64.whl (29.9 MB)\n",
            "\u001b[2K     \u001b[90m━━━━━━━━━━━━━━━━━━━━━━━━━━━━━━━━━━━━━━━━\u001b[0m \u001b[32m29.9/29.9 MB\u001b[0m \u001b[31m7.0 MB/s\u001b[0m eta \u001b[36m0:00:00\u001b[0m00:01\u001b[0m00:01\u001b[0m\n",
            "\u001b[?25hCollecting joblib>=1.0.0\n",
            "  Downloading joblib-1.2.0-py3-none-any.whl (297 kB)\n",
            "\u001b[2K     \u001b[90m━━━━━━━━━━━━━━━━━━━━━━━━━━━━━━━━━━━━━━━\u001b[0m \u001b[32m298.0/298.0 kB\u001b[0m \u001b[31m5.0 MB/s\u001b[0m eta \u001b[36m0:00:00\u001b[0m00:01\u001b[0m\n",
            "\u001b[?25hRequirement already satisfied: numpy>=1.17.3 in /Library/Frameworks/Python.framework/Versions/3.10/lib/python3.10/site-packages (from scikit-learn->sklearn) (1.23.3)\n",
            "Collecting threadpoolctl>=2.0.0\n",
            "  Downloading threadpoolctl-3.1.0-py3-none-any.whl (14 kB)\n",
            "Using legacy 'setup.py install' for sklearn, since package 'wheel' is not installed.\n",
            "Installing collected packages: threadpoolctl, scipy, joblib, scikit-learn, sklearn\n",
            "  Running setup.py install for sklearn ... \u001b[?25ldone\n",
            "\u001b[?25hSuccessfully installed joblib-1.2.0 scikit-learn-1.1.2 scipy-1.9.1 sklearn-0.0 threadpoolctl-3.1.0\n",
            "Note: you may need to restart the kernel to use updated packages.\n"
          ]
        }
      ],
      "source": [
        "pip install sklearn"
      ]
    },
    {
      "cell_type": "markdown",
      "metadata": {},
      "source": [
        "## Uni-variate Linear Regression"
      ]
    },
    {
      "cell_type": "markdown",
      "metadata": {},
      "source": [
        "### Data Processing and Model Design"
      ]
    },
    {
      "cell_type": "markdown",
      "metadata": {},
      "source": [
        "We can describe a uni-variate linear regression model as a model that describes the relationship between the predictor variable and a single independent variable x.\n",
        "\n",
        "For this assignment we will be using the Concrete Compressive Strength dataset in the UCI repository at: UCI Machine Learning Repository: Concrete Compressive Strength Data Set\n",
        "(https://archive.ics.uci.edu/ml/datasets/Concrete+Compressive+Strength)\n",
        "\n",
        "We have 1030 instances in this dataset, and we will be using 900 instances for training and 130 instances for testing, randomly selected. Let's read the data csv file and see what we're wokring with:\n",
        "\n"
      ]
    },
    {
      "cell_type": "code",
      "execution_count": 51,
      "metadata": {
        "colab": {
          "base_uri": "https://localhost:8080/",
          "height": 537
        },
        "id": "VSYapiNYRrZv",
        "outputId": "994db829-3b6f-4996-ff6a-0353e20fed0a"
      },
      "outputs": [
        {
          "data": {
            "text/html": [
              "<div>\n",
              "<style scoped>\n",
              "    .dataframe tbody tr th:only-of-type {\n",
              "        vertical-align: middle;\n",
              "    }\n",
              "\n",
              "    .dataframe tbody tr th {\n",
              "        vertical-align: top;\n",
              "    }\n",
              "\n",
              "    .dataframe thead th {\n",
              "        text-align: right;\n",
              "    }\n",
              "</style>\n",
              "<table border=\"1\" class=\"dataframe\">\n",
              "  <thead>\n",
              "    <tr style=\"text-align: right;\">\n",
              "      <th></th>\n",
              "      <th>Cement (component 1)(kg in a m^3 mixture)</th>\n",
              "      <th>Blast Furnace Slag (component 2)(kg in a m^3 mixture)</th>\n",
              "      <th>Fly Ash (component 3)(kg in a m^3 mixture)</th>\n",
              "      <th>Water  (component 4)(kg in a m^3 mixture)</th>\n",
              "      <th>Superplasticizer (component 5)(kg in a m^3 mixture)</th>\n",
              "      <th>Coarse Aggregate  (component 6)(kg in a m^3 mixture)</th>\n",
              "      <th>Fine Aggregate (component 7)(kg in a m^3 mixture)</th>\n",
              "      <th>Age (day)</th>\n",
              "      <th>Concrete compressive strength(MPa, megapascals)</th>\n",
              "    </tr>\n",
              "  </thead>\n",
              "  <tbody>\n",
              "    <tr>\n",
              "      <th>0</th>\n",
              "      <td>540.0</td>\n",
              "      <td>0.0</td>\n",
              "      <td>0.0</td>\n",
              "      <td>162.0</td>\n",
              "      <td>2.5</td>\n",
              "      <td>1040.0</td>\n",
              "      <td>676.0</td>\n",
              "      <td>28</td>\n",
              "      <td>79.99</td>\n",
              "    </tr>\n",
              "    <tr>\n",
              "      <th>1</th>\n",
              "      <td>540.0</td>\n",
              "      <td>0.0</td>\n",
              "      <td>0.0</td>\n",
              "      <td>162.0</td>\n",
              "      <td>2.5</td>\n",
              "      <td>1055.0</td>\n",
              "      <td>676.0</td>\n",
              "      <td>28</td>\n",
              "      <td>61.89</td>\n",
              "    </tr>\n",
              "    <tr>\n",
              "      <th>2</th>\n",
              "      <td>332.5</td>\n",
              "      <td>142.5</td>\n",
              "      <td>0.0</td>\n",
              "      <td>228.0</td>\n",
              "      <td>0.0</td>\n",
              "      <td>932.0</td>\n",
              "      <td>594.0</td>\n",
              "      <td>270</td>\n",
              "      <td>40.27</td>\n",
              "    </tr>\n",
              "    <tr>\n",
              "      <th>3</th>\n",
              "      <td>332.5</td>\n",
              "      <td>142.5</td>\n",
              "      <td>0.0</td>\n",
              "      <td>228.0</td>\n",
              "      <td>0.0</td>\n",
              "      <td>932.0</td>\n",
              "      <td>594.0</td>\n",
              "      <td>365</td>\n",
              "      <td>41.05</td>\n",
              "    </tr>\n",
              "    <tr>\n",
              "      <th>4</th>\n",
              "      <td>198.6</td>\n",
              "      <td>132.4</td>\n",
              "      <td>0.0</td>\n",
              "      <td>192.0</td>\n",
              "      <td>0.0</td>\n",
              "      <td>978.4</td>\n",
              "      <td>825.5</td>\n",
              "      <td>360</td>\n",
              "      <td>44.30</td>\n",
              "    </tr>\n",
              "    <tr>\n",
              "      <th>...</th>\n",
              "      <td>...</td>\n",
              "      <td>...</td>\n",
              "      <td>...</td>\n",
              "      <td>...</td>\n",
              "      <td>...</td>\n",
              "      <td>...</td>\n",
              "      <td>...</td>\n",
              "      <td>...</td>\n",
              "      <td>...</td>\n",
              "    </tr>\n",
              "    <tr>\n",
              "      <th>1025</th>\n",
              "      <td>276.4</td>\n",
              "      <td>116.0</td>\n",
              "      <td>90.3</td>\n",
              "      <td>179.6</td>\n",
              "      <td>8.9</td>\n",
              "      <td>870.1</td>\n",
              "      <td>768.3</td>\n",
              "      <td>28</td>\n",
              "      <td>44.28</td>\n",
              "    </tr>\n",
              "    <tr>\n",
              "      <th>1026</th>\n",
              "      <td>322.2</td>\n",
              "      <td>0.0</td>\n",
              "      <td>115.6</td>\n",
              "      <td>196.0</td>\n",
              "      <td>10.4</td>\n",
              "      <td>817.9</td>\n",
              "      <td>813.4</td>\n",
              "      <td>28</td>\n",
              "      <td>31.18</td>\n",
              "    </tr>\n",
              "    <tr>\n",
              "      <th>1027</th>\n",
              "      <td>148.5</td>\n",
              "      <td>139.4</td>\n",
              "      <td>108.6</td>\n",
              "      <td>192.7</td>\n",
              "      <td>6.1</td>\n",
              "      <td>892.4</td>\n",
              "      <td>780.0</td>\n",
              "      <td>28</td>\n",
              "      <td>23.70</td>\n",
              "    </tr>\n",
              "    <tr>\n",
              "      <th>1028</th>\n",
              "      <td>159.1</td>\n",
              "      <td>186.7</td>\n",
              "      <td>0.0</td>\n",
              "      <td>175.6</td>\n",
              "      <td>11.3</td>\n",
              "      <td>989.6</td>\n",
              "      <td>788.9</td>\n",
              "      <td>28</td>\n",
              "      <td>32.77</td>\n",
              "    </tr>\n",
              "    <tr>\n",
              "      <th>1029</th>\n",
              "      <td>260.9</td>\n",
              "      <td>100.5</td>\n",
              "      <td>78.3</td>\n",
              "      <td>200.6</td>\n",
              "      <td>8.6</td>\n",
              "      <td>864.5</td>\n",
              "      <td>761.5</td>\n",
              "      <td>28</td>\n",
              "      <td>32.40</td>\n",
              "    </tr>\n",
              "  </tbody>\n",
              "</table>\n",
              "<p>1030 rows × 9 columns</p>\n",
              "</div>"
            ],
            "text/plain": [
              "      Cement (component 1)(kg in a m^3 mixture)  \\\n",
              "0                                         540.0   \n",
              "1                                         540.0   \n",
              "2                                         332.5   \n",
              "3                                         332.5   \n",
              "4                                         198.6   \n",
              "...                                         ...   \n",
              "1025                                      276.4   \n",
              "1026                                      322.2   \n",
              "1027                                      148.5   \n",
              "1028                                      159.1   \n",
              "1029                                      260.9   \n",
              "\n",
              "      Blast Furnace Slag (component 2)(kg in a m^3 mixture)  \\\n",
              "0                                                   0.0       \n",
              "1                                                   0.0       \n",
              "2                                                 142.5       \n",
              "3                                                 142.5       \n",
              "4                                                 132.4       \n",
              "...                                                 ...       \n",
              "1025                                              116.0       \n",
              "1026                                                0.0       \n",
              "1027                                              139.4       \n",
              "1028                                              186.7       \n",
              "1029                                              100.5       \n",
              "\n",
              "      Fly Ash (component 3)(kg in a m^3 mixture)  \\\n",
              "0                                            0.0   \n",
              "1                                            0.0   \n",
              "2                                            0.0   \n",
              "3                                            0.0   \n",
              "4                                            0.0   \n",
              "...                                          ...   \n",
              "1025                                        90.3   \n",
              "1026                                       115.6   \n",
              "1027                                       108.6   \n",
              "1028                                         0.0   \n",
              "1029                                        78.3   \n",
              "\n",
              "      Water  (component 4)(kg in a m^3 mixture)  \\\n",
              "0                                         162.0   \n",
              "1                                         162.0   \n",
              "2                                         228.0   \n",
              "3                                         228.0   \n",
              "4                                         192.0   \n",
              "...                                         ...   \n",
              "1025                                      179.6   \n",
              "1026                                      196.0   \n",
              "1027                                      192.7   \n",
              "1028                                      175.6   \n",
              "1029                                      200.6   \n",
              "\n",
              "      Superplasticizer (component 5)(kg in a m^3 mixture)  \\\n",
              "0                                                   2.5     \n",
              "1                                                   2.5     \n",
              "2                                                   0.0     \n",
              "3                                                   0.0     \n",
              "4                                                   0.0     \n",
              "...                                                 ...     \n",
              "1025                                                8.9     \n",
              "1026                                               10.4     \n",
              "1027                                                6.1     \n",
              "1028                                               11.3     \n",
              "1029                                                8.6     \n",
              "\n",
              "      Coarse Aggregate  (component 6)(kg in a m^3 mixture)  \\\n",
              "0                                                1040.0      \n",
              "1                                                1055.0      \n",
              "2                                                 932.0      \n",
              "3                                                 932.0      \n",
              "4                                                 978.4      \n",
              "...                                                 ...      \n",
              "1025                                              870.1      \n",
              "1026                                              817.9      \n",
              "1027                                              892.4      \n",
              "1028                                              989.6      \n",
              "1029                                              864.5      \n",
              "\n",
              "      Fine Aggregate (component 7)(kg in a m^3 mixture)  Age (day)  \\\n",
              "0                                                 676.0         28   \n",
              "1                                                 676.0         28   \n",
              "2                                                 594.0        270   \n",
              "3                                                 594.0        365   \n",
              "4                                                 825.5        360   \n",
              "...                                                 ...        ...   \n",
              "1025                                              768.3         28   \n",
              "1026                                              813.4         28   \n",
              "1027                                              780.0         28   \n",
              "1028                                              788.9         28   \n",
              "1029                                              761.5         28   \n",
              "\n",
              "      Concrete compressive strength(MPa, megapascals)   \n",
              "0                                                79.99  \n",
              "1                                                61.89  \n",
              "2                                                40.27  \n",
              "3                                                41.05  \n",
              "4                                                44.30  \n",
              "...                                                ...  \n",
              "1025                                             44.28  \n",
              "1026                                             31.18  \n",
              "1027                                             23.70  \n",
              "1028                                             32.77  \n",
              "1029                                             32.40  \n",
              "\n",
              "[1030 rows x 9 columns]"
            ]
          },
          "execution_count": 51,
          "metadata": {},
          "output_type": "execute_result"
        }
      ],
      "source": [
        "import pandas as pd\n",
        "\n",
        "df = pd.read_csv(\"Concrete_Data.csv\")\n",
        "df"
      ]
    },
    {
      "cell_type": "markdown",
      "metadata": {},
      "source": [
        "Let's see if there are any null values that we need to worry about."
      ]
    },
    {
      "cell_type": "code",
      "execution_count": 21,
      "metadata": {},
      "outputs": [
        {
          "data": {
            "text/plain": [
              "Cement (component 1)(kg in a m^3 mixture)                0\n",
              "Blast Furnace Slag (component 2)(kg in a m^3 mixture)    0\n",
              "Fly Ash (component 3)(kg in a m^3 mixture)               0\n",
              "Water  (component 4)(kg in a m^3 mixture)                0\n",
              "Superplasticizer (component 5)(kg in a m^3 mixture)      0\n",
              "Coarse Aggregate  (component 6)(kg in a m^3 mixture)     0\n",
              "Fine Aggregate (component 7)(kg in a m^3 mixture)        0\n",
              "Age (day)                                                0\n",
              "Concrete compressive strength(MPa, megapascals)          0\n",
              "dtype: int64"
            ]
          },
          "execution_count": 21,
          "metadata": {},
          "output_type": "execute_result"
        }
      ],
      "source": [
        "df.isna().sum()"
      ]
    },
    {
      "cell_type": "markdown",
      "metadata": {},
      "source": [
        "There aren't any null values. So we can move on from with data processing. Let's start by selecting 900 random samples of our dataframe, and separating our a single dependent variable and our predictor variable. We'll also normalize our dataset and set the number of samples we are working with to N.\n",
        "\n",
        "For our univariate linear regression, we are going to use \"Cement (component 1)(kg in a m^3 mixture)\" to try and explain the concrete comprehensive stregth predictor variable. Just glancing at the data, there appears to be a relationship betmeen the cement kg in a m^3 mixture and the relative strength, so let's see if this is the case."
      ]
    },
    {
      "cell_type": "code",
      "execution_count": 362,
      "metadata": {},
      "outputs": [],
      "source": [
        "import numpy as np\n",
        "\n",
        "Xy_900 = df.sample(n=900)\n",
        "\n",
        "X = Xy_900[\"Cement (component 1)(kg in a m^3 mixture)\"]\n",
        "y = Xy_900[\"Concrete compressive strength(MPa, megapascals) \"]\n",
        "\n",
        "#Normalize dataset\n",
        "y = np.array((y-y.mean())/y.std())\n",
        "X = np.array((X-X.mean())/X.std())\n",
        "\n",
        "N = X.shape[0]"
      ]
    },
    {
      "cell_type": "code",
      "execution_count": 619,
      "metadata": {},
      "outputs": [
        {
          "data": {
            "text/plain": [
              "Text(0, 0.5, 'Loss')"
            ]
          },
          "execution_count": 619,
          "metadata": {},
          "output_type": "execute_result"
        },
        {
          "data": {
            "image/png": "[encoded data removed]",
            "text/plain": [
              "<Figure size 640x480 with 1 Axes>"
            ]
          },
          "metadata": {},
          "output_type": "display_data"
        }
      ],
      "source": [
        "#The linear regression\n",
        "import matplotlib.pyplot as plt\n",
        "\n",
        "\n",
        "#Helper Functions\n",
        "#Create stochastic gradient descent function\n",
        "def gradientDescent(X, y, m, b, learning_rate):\n",
        "\n",
        "    N = X.shape[0]\n",
        "\n",
        "    #Stochastic - random sample\n",
        "    Xy900_standard = (Xy_900 - Xy_900.mean())/Xy_900.std()\n",
        "    rand_sample = Xy900_standard.sample(n=1)\n",
        "    #rand_sample = Xy_900.sample(n=1)\n",
        "\n",
        "    X_rand = rand_sample[\"Cement (component 1)(kg in a m^3 mixture)\"].values\n",
        "    y_rand = rand_sample[\"Concrete compressive strength(MPa, megapascals) \"].values\n",
        "\n",
        "    #n becomes number of samples in batch?\n",
        "    yhat = m*X_rand + b\n",
        "    dldm = -2 * X_rand * (y_rand - yhat)\n",
        "    dldb = -2 * (y_rand - yhat)\n",
        "\n",
        "    #Non-stochastic\n",
        "    #yhat = m*X + b\n",
        "    #dldm = 1/N*sum(-2*X * (y - yhat))\n",
        "    #dldb = 1/N*sum(-2*(y - yhat))\n",
        "\n",
        "    m = m - learning_rate*dldm\n",
        "    b = b - learning_rate*dldb\n",
        "   \n",
        "    return m, b\n",
        "\n",
        "\n",
        "def linearRegression(X, y, learning_rate, epochs):\n",
        "    m = 0.0\n",
        "    b = 0.0\n",
        "    n = X.shape[0]\n",
        "    cost = np.zeros(epochs)\n",
        "\n",
        "    #Iteratively make updates\n",
        "    for i in range(epochs):\n",
        "        #Run gradient descent\n",
        "        m, b = gradientDescent(X, y, m, b, learning_rate)\n",
        "        yhat = m*X + b\n",
        "        #yhat = b+np.dot(X,m)\n",
        "\n",
        "        cost[i] = np.divide(np.sum((y - yhat)**2, axis=0), n)\n",
        "        #print(f'{epoch} loss is {loss}, parameters m: {m}, b:{b}')\n",
        "        #plt.scatter(X, y, c='b')\n",
        "        #plt.plot(X,yhat)\n",
        "        \n",
        "        #Add threshold\n",
        "    return m, b, cost\n",
        "\n",
        "#Linear regression with 400 epochs\n",
        "m, b, cost = linearRegression(X, y, 0.01, 400)\n",
        "plt.plot(cost)\n",
        "plt.xlabel('Iteration', size=14)\n",
        "plt.ylabel('Loss', size=14)\n"
      ]
    },
    {
      "cell_type": "markdown",
      "metadata": {},
      "source": [
        "With stocastic gradient descent we can see the expected \"bumpy\" nature of the algorithm as it chooses random samples to optimize. Even so, we still see the overall sudden decrease and plateau of Loss value as iterations increase!"
      ]
    },
    {
      "cell_type": "markdown",
      "metadata": {},
      "source": []
    },
    {
      "cell_type": "markdown",
      "metadata": {},
      "source": [
        "### Performance Analysis"
      ]
    },
    {
      "cell_type": "markdown",
      "metadata": {},
      "source": [
        "Using the remaining 130 rows, let's make some predictions."
      ]
    },
    {
      "cell_type": "code",
      "execution_count": 620,
      "metadata": {},
      "outputs": [
        {
          "data": {
            "text/plain": [
              "<matplotlib.collections.PathCollection at 0x2891fba60>"
            ]
          },
          "execution_count": 620,
          "metadata": {},
          "output_type": "execute_result"
        },
        {
          "data": {
            "image/png": "[encoded data removed]",
            "text/plain": [
              "<Figure size 640x480 with 1 Axes>"
            ]
          },
          "metadata": {},
          "output_type": "display_data"
        }
      ],
      "source": [
        "remaining = df[~df.index.isin(Xy_900.index)]\n",
        "X_test = remaining[\"Cement (component 1)(kg in a m^3 mixture)\"]\n",
        "y_test = remaining[\"Concrete compressive strength(MPa, megapascals) \"]\n",
        "\n",
        "y_test = np.array((y_test-y_test.mean())/y_test.std())\n",
        "X_test = np.array((X_test-X_test.mean())/X_test.std())\n",
        "\n",
        "predictions = []\n",
        "\n",
        "for x in X_test:\n",
        "    predictions.append(x*m + b)\n",
        "\n",
        "plt.scatter(X_test, y_test, color='blue')\n",
        "plt.scatter(X_test, np.array(predictions), color='red')\n",
        "#plt.plot(X_test, np.array(predictions))\n"
      ]
    },
    {
      "cell_type": "markdown",
      "metadata": {},
      "source": [
        "The trend looks pretty decent, so let's calculate our R-squared value to see how much of our data can be explained by our model."
      ]
    },
    {
      "cell_type": "code",
      "execution_count": 618,
      "metadata": {},
      "outputs": [
        {
          "name": "stdout",
          "output_type": "stream",
          "text": [
            "-0.31610787756234715\n"
          ]
        }
      ],
      "source": [
        "def r_squared(predictions, labels):\n",
        "        \n",
        "    num = np.square(labels - predictions).mean()\n",
        "    \n",
        "    denom = np.square(labels - labels.mean()).mean()\n",
        "    \n",
        "    r2 = 1 - num/denom\n",
        "    \n",
        "    return r2\n",
        "\n",
        "\n",
        "print(r_squared(predictions, y_test))"
      ]
    },
    {
      "cell_type": "code",
      "execution_count": 621,
      "metadata": {},
      "outputs": [
        {
          "name": "stdout",
          "output_type": "stream",
          "text": [
            "0.1997636979920151\n"
          ]
        }
      ],
      "source": [
        "from sklearn import metrics\n",
        "\n",
        "print(metrics.r2_score(y_test, predictions))"
      ]
    },
    {
      "cell_type": "markdown",
      "metadata": {},
      "source": [
        "According to our R-squared value, the model can explain 19.2% of our data."
      ]
    },
    {
      "cell_type": "markdown",
      "metadata": {},
      "source": [
        "## Multi-variate linear regression"
      ]
    },
    {
      "cell_type": "markdown",
      "metadata": {},
      "source": [
        "### Data Processing and Model Design"
      ]
    },
    {
      "cell_type": "code",
      "execution_count": 439,
      "metadata": {},
      "outputs": [],
      "source": [
        "import numpy as np\n",
        "\n",
        "Xy_900_mv = df.sample(n=900)\n",
        "Xy_900_mv = (Xy_900_mv - Xy_900_mv.mean())/Xy_900_mv.std()\n",
        "\n",
        "\n",
        "y_mv = Xy_900_mv[\"Concrete compressive strength(MPa, megapascals) \"].values\n",
        "X_mv = Xy_900_mv.iloc[: , :-1].values #remove last column\n",
        "\n",
        "N_mv = X_mv.shape[0]"
      ]
    },
    {
      "cell_type": "code",
      "execution_count": 399,
      "metadata": {},
      "outputs": [
        {
          "data": {
            "text/html": [
              "<div>\n",
              "<style scoped>\n",
              "    .dataframe tbody tr th:only-of-type {\n",
              "        vertical-align: middle;\n",
              "    }\n",
              "\n",
              "    .dataframe tbody tr th {\n",
              "        vertical-align: top;\n",
              "    }\n",
              "\n",
              "    .dataframe thead th {\n",
              "        text-align: right;\n",
              "    }\n",
              "</style>\n",
              "<table border=\"1\" class=\"dataframe\">\n",
              "  <thead>\n",
              "    <tr style=\"text-align: right;\">\n",
              "      <th></th>\n",
              "      <th>Cement (component 1)(kg in a m^3 mixture)</th>\n",
              "      <th>Blast Furnace Slag (component 2)(kg in a m^3 mixture)</th>\n",
              "      <th>Fly Ash (component 3)(kg in a m^3 mixture)</th>\n",
              "      <th>Water  (component 4)(kg in a m^3 mixture)</th>\n",
              "      <th>Superplasticizer (component 5)(kg in a m^3 mixture)</th>\n",
              "      <th>Coarse Aggregate  (component 6)(kg in a m^3 mixture)</th>\n",
              "      <th>Fine Aggregate (component 7)(kg in a m^3 mixture)</th>\n",
              "      <th>Age (day)</th>\n",
              "    </tr>\n",
              "  </thead>\n",
              "  <tbody>\n",
              "    <tr>\n",
              "      <th>667</th>\n",
              "      <td>-0.848420</td>\n",
              "      <td>2.506299</td>\n",
              "      <td>-0.842351</td>\n",
              "      <td>0.475365</td>\n",
              "      <td>-1.032585</td>\n",
              "      <td>-0.547656</td>\n",
              "      <td>-0.726571</td>\n",
              "      <td>-0.281550</td>\n",
              "    </tr>\n",
              "    <tr>\n",
              "      <th>647</th>\n",
              "      <td>-1.183963</td>\n",
              "      <td>1.901938</td>\n",
              "      <td>-0.842351</td>\n",
              "      <td>0.475365</td>\n",
              "      <td>-1.032585</td>\n",
              "      <td>-0.476343</td>\n",
              "      <td>0.087039</td>\n",
              "      <td>0.691056</td>\n",
              "    </tr>\n",
              "    <tr>\n",
              "      <th>347</th>\n",
              "      <td>-0.640383</td>\n",
              "      <td>-0.840934</td>\n",
              "      <td>1.877646</td>\n",
              "      <td>-1.274177</td>\n",
              "      <td>0.679098</td>\n",
              "      <td>1.027594</td>\n",
              "      <td>0.027050</td>\n",
              "      <td>0.157691</td>\n",
              "    </tr>\n",
              "    <tr>\n",
              "      <th>19</th>\n",
              "      <td>1.864684</td>\n",
              "      <td>-0.840934</td>\n",
              "      <td>-0.842351</td>\n",
              "      <td>2.168471</td>\n",
              "      <td>-1.032585</td>\n",
              "      <td>-0.519640</td>\n",
              "      <td>-2.252560</td>\n",
              "      <td>2.102905</td>\n",
              "    </tr>\n",
              "    <tr>\n",
              "      <th>121</th>\n",
              "      <td>1.864684</td>\n",
              "      <td>0.539800</td>\n",
              "      <td>-0.842351</td>\n",
              "      <td>-0.037269</td>\n",
              "      <td>0.460942</td>\n",
              "      <td>-1.537121</td>\n",
              "      <td>0.090789</td>\n",
              "      <td>-0.281550</td>\n",
              "    </tr>\n",
              "    <tr>\n",
              "      <th>...</th>\n",
              "      <td>...</td>\n",
              "      <td>...</td>\n",
              "      <td>...</td>\n",
              "      <td>...</td>\n",
              "      <td>...</td>\n",
              "      <td>...</td>\n",
              "      <td>...</td>\n",
              "      <td>...</td>\n",
              "    </tr>\n",
              "    <tr>\n",
              "      <th>947</th>\n",
              "      <td>0.185052</td>\n",
              "      <td>-0.840934</td>\n",
              "      <td>1.022878</td>\n",
              "      <td>1.392464</td>\n",
              "      <td>0.628754</td>\n",
              "      <td>-1.204753</td>\n",
              "      <td>-0.582846</td>\n",
              "      <td>-0.281550</td>\n",
              "    </tr>\n",
              "    <tr>\n",
              "      <th>540</th>\n",
              "      <td>1.912619</td>\n",
              "      <td>-0.840934</td>\n",
              "      <td>-0.842351</td>\n",
              "      <td>0.475365</td>\n",
              "      <td>-1.032585</td>\n",
              "      <td>-0.466155</td>\n",
              "      <td>-0.775313</td>\n",
              "      <td>-0.673731</td>\n",
              "    </tr>\n",
              "    <tr>\n",
              "      <th>184</th>\n",
              "      <td>-0.556977</td>\n",
              "      <td>-0.840934</td>\n",
              "      <td>0.663222</td>\n",
              "      <td>0.348383</td>\n",
              "      <td>-0.277431</td>\n",
              "      <td>-0.072661</td>\n",
              "      <td>1.200598</td>\n",
              "      <td>-0.673731</td>\n",
              "    </tr>\n",
              "    <tr>\n",
              "      <th>244</th>\n",
              "      <td>-0.406462</td>\n",
              "      <td>-0.840934</td>\n",
              "      <td>0.622741</td>\n",
              "      <td>0.226103</td>\n",
              "      <td>0.142099</td>\n",
              "      <td>-0.291694</td>\n",
              "      <td>0.909398</td>\n",
              "      <td>-0.673731</td>\n",
              "    </tr>\n",
              "    <tr>\n",
              "      <th>907</th>\n",
              "      <td>0.321187</td>\n",
              "      <td>0.844305</td>\n",
              "      <td>0.917006</td>\n",
              "      <td>-0.136034</td>\n",
              "      <td>0.309912</td>\n",
              "      <td>-1.321909</td>\n",
              "      <td>-1.052765</td>\n",
              "      <td>-0.281550</td>\n",
              "    </tr>\n",
              "  </tbody>\n",
              "</table>\n",
              "<p>900 rows × 8 columns</p>\n",
              "</div>"
            ],
            "text/plain": [
              "     Cement (component 1)(kg in a m^3 mixture)  \\\n",
              "667                                  -0.848420   \n",
              "647                                  -1.183963   \n",
              "347                                  -0.640383   \n",
              "19                                    1.864684   \n",
              "121                                   1.864684   \n",
              "..                                         ...   \n",
              "947                                   0.185052   \n",
              "540                                   1.912619   \n",
              "184                                  -0.556977   \n",
              "244                                  -0.406462   \n",
              "907                                   0.321187   \n",
              "\n",
              "     Blast Furnace Slag (component 2)(kg in a m^3 mixture)  \\\n",
              "667                                           2.506299       \n",
              "647                                           1.901938       \n",
              "347                                          -0.840934       \n",
              "19                                           -0.840934       \n",
              "121                                           0.539800       \n",
              "..                                                 ...       \n",
              "947                                          -0.840934       \n",
              "540                                          -0.840934       \n",
              "184                                          -0.840934       \n",
              "244                                          -0.840934       \n",
              "907                                           0.844305       \n",
              "\n",
              "     Fly Ash (component 3)(kg in a m^3 mixture)  \\\n",
              "667                                   -0.842351   \n",
              "647                                   -0.842351   \n",
              "347                                    1.877646   \n",
              "19                                    -0.842351   \n",
              "121                                   -0.842351   \n",
              "..                                          ...   \n",
              "947                                    1.022878   \n",
              "540                                   -0.842351   \n",
              "184                                    0.663222   \n",
              "244                                    0.622741   \n",
              "907                                    0.917006   \n",
              "\n",
              "     Water  (component 4)(kg in a m^3 mixture)  \\\n",
              "667                                   0.475365   \n",
              "647                                   0.475365   \n",
              "347                                  -1.274177   \n",
              "19                                    2.168471   \n",
              "121                                  -0.037269   \n",
              "..                                         ...   \n",
              "947                                   1.392464   \n",
              "540                                   0.475365   \n",
              "184                                   0.348383   \n",
              "244                                   0.226103   \n",
              "907                                  -0.136034   \n",
              "\n",
              "     Superplasticizer (component 5)(kg in a m^3 mixture)  \\\n",
              "667                                          -1.032585     \n",
              "647                                          -1.032585     \n",
              "347                                           0.679098     \n",
              "19                                           -1.032585     \n",
              "121                                           0.460942     \n",
              "..                                                 ...     \n",
              "947                                           0.628754     \n",
              "540                                          -1.032585     \n",
              "184                                          -0.277431     \n",
              "244                                           0.142099     \n",
              "907                                           0.309912     \n",
              "\n",
              "     Coarse Aggregate  (component 6)(kg in a m^3 mixture)  \\\n",
              "667                                          -0.547656      \n",
              "647                                          -0.476343      \n",
              "347                                           1.027594      \n",
              "19                                           -0.519640      \n",
              "121                                          -1.537121      \n",
              "..                                                 ...      \n",
              "947                                          -1.204753      \n",
              "540                                          -0.466155      \n",
              "184                                          -0.072661      \n",
              "244                                          -0.291694      \n",
              "907                                          -1.321909      \n",
              "\n",
              "     Fine Aggregate (component 7)(kg in a m^3 mixture)  Age (day)  \n",
              "667                                          -0.726571  -0.281550  \n",
              "647                                           0.087039   0.691056  \n",
              "347                                           0.027050   0.157691  \n",
              "19                                           -2.252560   2.102905  \n",
              "121                                           0.090789  -0.281550  \n",
              "..                                                 ...        ...  \n",
              "947                                          -0.582846  -0.281550  \n",
              "540                                          -0.775313  -0.673731  \n",
              "184                                           1.200598  -0.673731  \n",
              "244                                           0.909398  -0.673731  \n",
              "907                                          -1.052765  -0.281550  \n",
              "\n",
              "[900 rows x 8 columns]"
            ]
          },
          "execution_count": 399,
          "metadata": {},
          "output_type": "execute_result"
        }
      ],
      "source": [
        "X_mv"
      ]
    },
    {
      "cell_type": "code",
      "execution_count": 581,
      "metadata": {},
      "outputs": [
        {
          "data": {
            "text/plain": [
              "Text(0, 0.5, 'Loss')"
            ]
          },
          "execution_count": 581,
          "metadata": {},
          "output_type": "execute_result"
        },
        {
          "data": {
            "image/png": "[encoded data removed]",
            "text/plain": [
              "<Figure size 640x480 with 1 Axes>"
            ]
          },
          "metadata": {},
          "output_type": "display_data"
        }
      ],
      "source": [
        "#The MV linear regression\n",
        "import matplotlib.pyplot as plt\n",
        "import numpy as np\n",
        "\n",
        "Xy_900_mv = df.sample(n=900)\n",
        "Xy_900_mv = (Xy_900_mv - Xy_900_mv.mean())/Xy_900_mv.std()\n",
        "\n",
        "\n",
        "y_mv = Xy_900_mv[\"Concrete compressive strength(MPa, megapascals) \"].values\n",
        "X_mv = Xy_900_mv.iloc[: , :-1] #remove last column\n",
        "\n",
        "N_mv = X_mv.shape[0]\n",
        "\n",
        "def gradientDescentMulti(X, y, w, learning_rate):\n",
        "    \n",
        "    #Non-stochastic\n",
        "    N = X.shape[0]\n",
        "\n",
        "    yhat = np.matmul(X, w)\n",
        "    \n",
        "    #dldw = 1/N * np.sum((np.dot(X.T, yhat - y)), axis = 0)\n",
        "    dldw = 1/(2*N) * np.matmul(X.T, yhat - y)\n",
        "    \n",
        "    #dldb = 1/N * (np.sum(yhat - y))\n",
        "\n",
        "    w = w - learning_rate*dldw\n",
        "    #b = b - learning_rate*dldb\n",
        "\n",
        "    return w\n",
        "\n",
        "def MVLinearRegression(X, y, learning_rate, epochs):\n",
        "\n",
        "    #Stochastic?\n",
        "    #w = np.random.randn(X.shape[1])\n",
        "    \n",
        "    #Non stochastic\n",
        "    w = np.zeros(X.shape[1])\n",
        "    n = y.shape[0]\n",
        "    cost = np.zeros(epochs)\n",
        "    \n",
        "    #Iteratively make updates\n",
        "    for i in range(epochs):\n",
        "        #Run gradient descent\n",
        "        w = gradientDescentMulti(X, y, w, learning_rate)\n",
        "        #New yhat\n",
        "        yhat = np.dot(X,w)\n",
        "\n",
        "        cost[i] = np.divide(np.sum((y - yhat)**2, axis=0), n)\n",
        "        #print(f'{epoch} cost is {cost}, parameters w: {w}, b:{b}')\n",
        "\n",
        "    return w, cost\n",
        "\n",
        "#Linear regression with 400 epochs\n",
        "w, cost = MVLinearRegression(X_mv, y_mv, 0.01, 1000)\n",
        "plt.plot(cost)\n",
        "plt.xlabel('Iteration', size=14)\n",
        "plt.ylabel('Loss', size=14)\n",
        "\n"
      ]
    },
    {
      "cell_type": "markdown",
      "metadata": {},
      "source": [
        "### Performance Analysis"
      ]
    },
    {
      "cell_type": "code",
      "execution_count": 610,
      "metadata": {},
      "outputs": [
        {
          "name": "stdout",
          "output_type": "stream",
          "text": [
            "0.6918405063601982\n"
          ]
        }
      ],
      "source": [
        "remaining = df[~df.index.isin(Xy_900_mv.index)]\n",
        "\n",
        "remaining = (remaining - remaining.mean())/remaining.std()\n",
        "\n",
        "X_mv_test = remaining.iloc[: , :-1] #remove last column\n",
        "y_mv_test = remaining[\"Concrete compressive strength(MPa, megapascals) \"]\n",
        "\n",
        "predictions_mv = []\n",
        "\n",
        "predictions_mv_test = np.dot(X_mv_test, w)\n",
        "\n",
        "print(metrics.r2_score(y_mv_test, predictions_mv_test))\n",
        "\n",
        "\n",
        "#plt.scatter(X_mv_test.values, y_mv_test.values, color='blue')\n"
      ]
    }
  ],
  "metadata": {
    "colab": {
      "provenance": []
    },
    "kernelspec": {
      "display_name": "Python 3.10.7 64-bit",
      "language": "python",
      "name": "python3"
    },
    "language_info": {
      "codemirror_mode": {
        "name": "ipython",
        "version": 3
      },
      "file_extension": ".py",
      "mimetype": "text/x-python",
      "name": "python",
      "nbconvert_exporter": "python",
      "pygments_lexer": "ipython3",
      "version": "3.10.7"
    },
    "vscode": {
      "interpreter": {
        "hash": "aee8b7b246df8f9039afb4144a1f6fd8d2ca17a180786b69acc140d282b71a49"
      }
    }
  },
  "nbformat": 4,
  "nbformat_minor": 0
}
